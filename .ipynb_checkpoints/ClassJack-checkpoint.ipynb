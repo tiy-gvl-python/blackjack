{
 "cells": [
  {
   "cell_type": "code",
   "execution_count": 1,
   "metadata": {
    "collapsed": true
   },
   "outputs": [],
   "source": [
    "import random"
   ]
  },
  {
   "cell_type": "code",
   "execution_count": 2,
   "metadata": {
    "collapsed": false
   },
   "outputs": [],
   "source": [
    "class Deck:\n",
    "    def __init__(self, deck):\n",
    "        self.deck = deck"
   ]
  },
  {
   "cell_type": "code",
   "execution_count": 3,
   "metadata": {
    "collapsed": false
   },
   "outputs": [],
   "source": [
    "class Player:\n",
    "    def __init__(self, deck):\n",
    "        self.hand = []\n",
    "        self.money = 100\n",
    "        self.deck = deck\n",
    "        \n",
    "    def draw_card(self):\n",
    "        self.hand.append(random.choice(self.deck.deck))\n",
    "\n",
    "    def hand_value(self):\n",
    "        if 1 in self.hand:\n",
    "            if 7 <= sum(self.hand) <= 11:\n",
    "                return sum(self.hand) + 10\n",
    "        return sum(self.hand)\n",
    "\n",
    "    def dealer_hit_or_stay(self):\n",
    "        for _ in range(10):\n",
    "            if self.hand_value() < 17:\n",
    "                self.draw_card()\n",
    "\n",
    "    def player_hit_or_stay(self):\n",
    "        choice = input(\"Enter 'h' to Hit or just 'Enter' to Stay. \").lower()\n",
    "        if choice == 'h':\n",
    "            self.draw_card()\n",
    "            self.player_hit_or_stay()"
   ]
  },
  {
   "cell_type": "code",
   "execution_count": 10,
   "metadata": {
    "collapsed": false
   },
   "outputs": [],
   "source": [
    "class Game:\n",
    "    def __init__(self, player1, player2):\n",
    "        self.player1 = player1\n",
    "        self.player2 = player2\n",
    "    \n",
    "    def __str__(self):\n",
    "        pass\n",
    "\n",
    "        def begin_game(self):\n",
    "        print(\"Player funds = $\", player1.money)\n",
    "        print(\"Dealing cards\")\n",
    "        for _ in range(2):\n",
    "            player1.draw_card()\n",
    "            player2.draw_card()\n",
    "        if player1.hand_value() == 21:\n",
    "            if player2.hand_value() == 21:\n",
    "                print(\"Player and Dealer have BlackJack!\")\n",
    "                print(\"Game is a tie\")\n",
    "                print(\"Player hand \", player1.hand)\n",
    "                print(\"Dealer hand \", player2.hand)\n",
    "                print(\"Player funds = $\", player1.money)\n",
    "                self.play_again()\n",
    "            print(\"Player wins with BlackJack!\")\n",
    "            print(\"Player hand \", player1.hand)\n",
    "            print(\"Dealer hand \", player2.hand)\n",
    "            player1.money += 10\n",
    "            print(\"Player funds = $\", player1.money)\n",
    "            self.play_again()\n",
    "        elif player2.hand_value() == 21:\n",
    "            print(\"Dealer wins with BlackJack!\")\n",
    "            print(\"Player hand \", player1.hand)\n",
    "            print(\"Dealer hand \", player2.hand)\n",
    "            player1.money -= 10\n",
    "            print(\"Player funds = $\", player1.money)\n",
    "            self.play_again()\n",
    "        else:\n",
    "            print(\"Player hand \", player1.hand)\n",
    "            print(\"Dealer shows\", player2.hand[0])\n",
    "            \n",
    "    def play_again(self):\n",
    "        play_choice = input(\"Play again? Enter 'Y'es or just Enter to quit\").lower()\n",
    "        if play_choice == y:\n",
    "            player1.hand = []\n",
    "            player2.hand = []\n",
    "            self.begin_game()\n",
    "        else:\n",
    "            return(\"Your final dollar amount is ${}\".format(player.money))\n",
    "            enter(\"Press Enter to exit\")\n",
    "            os.system(\"clear\")\n",
    "\n",
    "    def winner(self):\n",
    "        if player1.hand_value() > 21:\n",
    "            if player2.hand_value() > 21:\n",
    "                return \"Player and Dealer have both busted\"\n",
    "            player1.money -= 10\n",
    "            return \"Player has gone bust.  Dealer wins\"\n",
    "        elif self.player2.hand_value() > 21:\n",
    "            player1.money += 10\n",
    "            return \"Dealer has gone bust.  Player wins\"\n",
    "        elif self.player1.hand > self.player2.hand:\n",
    "            player1.money += 10\n",
    "            return(\"Player is the winner with a score of {}.\".format(self.player1.hand_value()))\n",
    "        elif self.player2.hand > self.player1.hand:\n",
    "            player1.money -= 10\n",
    "            return(\"Dealer is the winner with a score of {}.\".format(self.player2.hand_value()))\n",
    "        else:\n",
    "            return(\"It's a tie.  Player {} / Dealer {}\".format(self.player1.hand_value(), self.player2.hand_value()))\n",
    "\n"
   ]
  },
  {
   "cell_type": "code",
   "execution_count": 12,
   "metadata": {
    "collapsed": false
   },
   "outputs": [
    {
     "name": "stdout",
     "output_type": "stream",
     "text": [
      "Player funds = $ 100\n",
      "Dealing cards\n",
      "Player hand  [1, 2]\n",
      "Dealer shows 10\n",
      "Player has $100\n"
     ]
    }
   ],
   "source": [
    "deck = Deck(deck = [1, 2, 3, 4, 5, 6, 7, 8, 9, 10, 10, 10, 10])\n",
    "player1 = Player(deck)\n",
    "player2 = Player(deck)\n",
    "game = Game(player1, player2)\n",
    "game.begin_game()\n",
    "player1.dealer_hit_or_stay()\n",
    "player2.dealer_hit_or_stay()\n",
    "game.winner()\n",
    "print(\"Player has ${}\".format(player1.money))\n"
   ]
  },
  {
   "cell_type": "code",
   "execution_count": null,
   "metadata": {
    "collapsed": true
   },
   "outputs": [],
   "source": []
  },
  {
   "cell_type": "code",
   "execution_count": null,
   "metadata": {
    "collapsed": true
   },
   "outputs": [],
   "source": []
  },
  {
   "cell_type": "code",
   "execution_count": null,
   "metadata": {
    "collapsed": true
   },
   "outputs": [],
   "source": []
  },
  {
   "cell_type": "code",
   "execution_count": null,
   "metadata": {
    "collapsed": true
   },
   "outputs": [],
   "source": []
  },
  {
   "cell_type": "code",
   "execution_count": null,
   "metadata": {
    "collapsed": true
   },
   "outputs": [],
   "source": []
  },
  {
   "cell_type": "code",
   "execution_count": null,
   "metadata": {
    "collapsed": true
   },
   "outputs": [],
   "source": []
  },
  {
   "cell_type": "code",
   "execution_count": null,
   "metadata": {
    "collapsed": true
   },
   "outputs": [],
   "source": []
  },
  {
   "cell_type": "code",
   "execution_count": null,
   "metadata": {
    "collapsed": true
   },
   "outputs": [],
   "source": []
  },
  {
   "cell_type": "code",
   "execution_count": null,
   "metadata": {
    "collapsed": true
   },
   "outputs": [],
   "source": []
  },
  {
   "cell_type": "code",
   "execution_count": null,
   "metadata": {
    "collapsed": true
   },
   "outputs": [],
   "source": []
  },
  {
   "cell_type": "code",
   "execution_count": null,
   "metadata": {
    "collapsed": false
   },
   "outputs": [],
   "source": [
    "player1.player_hit_or_stay()\n",
    "print(player1.hand_value())\n",
    "print(player1.hand)\n",
    "player1.player_hit_or_stay()\n",
    "print(player1.hand_value())\n",
    "print(player1.hand)\n",
    "player1.player_hit_or_stay()\n",
    "print(player1.hand_value())\n",
    "print(player1.hand)\n",
    "player1.player_hit_or_stay()\n",
    "print(player1.hand_value())\n",
    "print(player1.hand)\n",
    "\n"
   ]
  },
  {
   "cell_type": "code",
   "execution_count": null,
   "metadata": {
    "collapsed": false
   },
   "outputs": [],
   "source": [
    "player1.draw_card()\n",
    "player1.dealer_hit_or_stay()\n",
    "player1.dealer_hit_or_stay()\n",
    "player1.dealer_hit_or_stay()\n",
    "player1.dealer_hit_or_stay()\n",
    "print(player1.hand)\n",
    "print(player1.hand_value())\n"
   ]
  },
  {
   "cell_type": "code",
   "execution_count": null,
   "metadata": {
    "collapsed": true
   },
   "outputs": [],
   "source": []
  },
  {
   "cell_type": "code",
   "execution_count": null,
   "metadata": {
    "collapsed": true
   },
   "outputs": [],
   "source": []
  },
  {
   "cell_type": "code",
   "execution_count": null,
   "metadata": {
    "collapsed": true
   },
   "outputs": [],
   "source": []
  },
  {
   "cell_type": "code",
   "execution_count": null,
   "metadata": {
    "collapsed": true
   },
   "outputs": [],
   "source": []
  },
  {
   "cell_type": "code",
   "execution_count": null,
   "metadata": {
    "collapsed": true
   },
   "outputs": [],
   "source": []
  }
 ],
 "metadata": {
  "kernelspec": {
   "display_name": "Python 3",
   "language": "python",
   "name": "python3"
  },
  "language_info": {
   "codemirror_mode": {
    "name": "ipython",
    "version": 3
   },
   "file_extension": ".py",
   "mimetype": "text/x-python",
   "name": "python",
   "nbconvert_exporter": "python",
   "pygments_lexer": "ipython3",
   "version": "3.4.3"
  }
 },
 "nbformat": 4,
 "nbformat_minor": 0
}
